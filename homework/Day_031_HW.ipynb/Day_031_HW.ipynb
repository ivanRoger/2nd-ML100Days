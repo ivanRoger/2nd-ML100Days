{
 "cells": [
  {
   "cell_type": "markdown",
   "metadata": {},
   "source": [
    "## 練習時間"
   ]
  },
  {
   "cell_type": "markdown",
   "metadata": {},
   "source": [
    "請觀看台大電機李宏毅教授的影片。李教授會用非常淺顯易懂的方式介紹甚麼是機器學習。\n"
   ]
  },
  {
   "cell_type": "markdown",
   "metadata": {},
   "source": [
    "[youtube](https://www.youtube.com/watch?v=CXgbekl66jc)"
   ]
  },
  {
   "cell_type": "markdown",
   "metadata": {},
   "source": [
    "## 請找出一個你認為機器學習可以發光發熱的領域並闡述原因? "
   ]
  },
  {
   "cell_type": "markdown",
   "metadata": {},
   "source": [
    "我認為機器學習在未來可以發光發熱的領域為環保相關工作，諸如垃圾分類，清除海洋或沙灘垃圾等等較為辛苦，對人類而言環境難以到達且工作範圍龐大的垃圾處理工作。雖然現今常常有人提倡淨灘等環保活動，但在環保意識抬頭的現今，光靠人類的力量去清除垃圾是遠遠不夠的。每秒鐘都有海洋生物因誤食塑膠垃圾而死亡，遑論海底中的生物，更可能因誤食海底垃圾而死亡，最終殘害到的還是我們人類。\n",
    "若是能夠利用深度學習中CNN的技術訓練機器人辨別海底中甚或沙灘的垃圾，並讓機器人們代替人類進行環境維護的工作，勢必能加速環境保護相關工作的進行！！！"
   ]
  },
  {
   "cell_type": "code",
   "execution_count": null,
   "metadata": {},
   "outputs": [],
   "source": []
  }
 ],
 "metadata": {
  "kernelspec": {
   "display_name": "Python 3",
   "language": "python",
   "name": "python3"
  },
  "language_info": {
   "codemirror_mode": {
    "name": "ipython",
    "version": 3
   },
   "file_extension": ".py",
   "mimetype": "text/x-python",
   "name": "python",
   "nbconvert_exporter": "python",
   "pygments_lexer": "ipython3",
   "version": "3.6.8"
  }
 },
 "nbformat": 4,
 "nbformat_minor": 2
}
